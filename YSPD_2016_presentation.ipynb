{
 "cells": [
  {
   "cell_type": "code",
   "execution_count": null,
   "metadata": {
    "collapsed": false,
    "slideshow": {
     "slide_type": "skip"
    }
   },
   "outputs": [],
   "source": [
    "%matplotlib inline\n",
    "%load_ext Cython"
   ]
  },
  {
   "cell_type": "markdown",
   "metadata": {
    "slideshow": {
     "slide_type": "slide"
    }
   },
   "source": [
    "# A Brief Overview of Python in the Atmospheric Science and Remote Sensing Fields.\n",
    "\n",
    "Joseph C. Hardin, PNNL\n",
    "\n"
   ]
  },
  {
   "cell_type": "markdown",
   "metadata": {
    "collapsed": true,
    "slideshow": {
     "slide_type": "slide"
    }
   },
   "source": [
    "# Overview\n",
    "\n",
    "This talk will be a \"sales pitch\" for Python. The goal is to\n",
    "1. Introduce Python\n",
    "2. Show why it is a vital tool for atmospheric scientists.\n",
    "3. Show some cool examples of what it can do.\n",
    "4. Place it into the context of the broader community.\n",
    "5. Give references for further study.\n"
   ]
  },
  {
   "cell_type": "markdown",
   "metadata": {
    "collapsed": true,
    "slideshow": {
     "slide_type": "subslide"
    }
   },
   "source": [
    "# Takeaways\n",
    " * 30 minutes is not enough time to teach Python.\n",
    " * But we can introduce it. \n",
    " * This presentation will be very example oriented.\n",
    " * with lots of visualizations.\n",
    " \n",
    " The goal is you leave this presentation\n",
    " * with a feel for whether or not Python will benefit you\n",
    " * whether it is worth the time or not to learn (it is!).\n"
   ]
  },
  {
   "cell_type": "markdown",
   "metadata": {
    "slideshow": {
     "slide_type": "subslide"
    }
   },
   "source": [
    "# This presentation is available online\n",
    "https://github.com/josephhardinee/YSPD_seminar_PNNL_2016\n",
    "\n",
    "![Python Graphic](http://imgs.xkcd.com/comics/python.png)"
   ]
  },
  {
   "cell_type": "markdown",
   "metadata": {
    "slideshow": {
     "slide_type": "slide"
    }
   },
   "source": [
    "# Python is\n",
    "* High Level, Interpreted(sometimes compiled), Dynamic(Duck Typing, although optionally static), Object Oriented language(with optional functional attributes) ....(Whew). \n",
    "* Often described as executable pseudocode based on the ease with which it is read.\n",
    "* \n",
    "\n",
    "\n"
   ]
  },
  {
   "cell_type": "markdown",
   "metadata": {
    "slideshow": {
     "slide_type": "subslide"
    }
   },
   "source": [
    "# Why will you use Python though? \n",
    "* Python has a truly vast number of 3rd party free(free as in beer and liberties).    \n",
    "* This makes many tasks **Very** easy. \n",
    "* Everyone else is using it. Code can be shared. \n",
    "* A great ecosystem surrounding Python"
   ]
  },
  {
   "cell_type": "code",
   "execution_count": null,
   "metadata": {
    "collapsed": false,
    "slideshow": {
     "slide_type": "subslide"
    }
   },
   "outputs": [],
   "source": [
    "from skewt import SkewT\n",
    "S=SkewT.Sounding(\"oun_sounding.txt\")\n",
    "S.plot_skewt(color='b');"
   ]
  },
  {
   "cell_type": "markdown",
   "metadata": {
    "collapsed": true,
    "slideshow": {
     "slide_type": "subslide"
    }
   },
   "source": [
    "# Basic Syntax\n",
    "* Whitespace matters\n",
    "* Syntax similar to C family of languages(C, Java, matlab)."
   ]
  },
  {
   "cell_type": "code",
   "execution_count": null,
   "metadata": {
    "collapsed": false,
    "scrolled": false,
    "slideshow": {
     "slide_type": "fragment"
    }
   },
   "outputs": [],
   "source": [
    "digits = range(10)\n",
    "for x in digits:\n",
    "    print(x)"
   ]
  },
  {
   "cell_type": "markdown",
   "metadata": {
    "collapsed": true,
    "slideshow": {
     "slide_type": "subslide"
    }
   },
   "source": [
    "* Interpreted"
   ]
  },
  {
   "cell_type": "code",
   "execution_count": null,
   "metadata": {
    "collapsed": false,
    "slideshow": {
     "slide_type": "fragment"
    }
   },
   "outputs": [],
   "source": [
    "a = 1\n",
    "b = 2\n",
    "print(a + b)"
   ]
  },
  {
   "cell_type": "markdown",
   "metadata": {
    "collapsed": true,
    "slideshow": {
     "slide_type": "subslide"
    }
   },
   "source": [
    "* Dynamic (You can mix some variable types)\n",
    "* Similar Flow control\n",
    "* Object oriented."
   ]
  },
  {
   "cell_type": "code",
   "execution_count": null,
   "metadata": {
    "collapsed": false,
    "slideshow": {
     "slide_type": "fragment"
    }
   },
   "outputs": [],
   "source": [
    "x = 4\n",
    "y = 3.3\n",
    "t = 'Hello YSPD. '\n",
    "\n",
    "print(x + y)\n",
    "print(x * t)"
   ]
  },
  {
   "cell_type": "code",
   "execution_count": null,
   "metadata": {
    "collapsed": false,
    "slideshow": {
     "slide_type": "fragment"
    }
   },
   "outputs": [],
   "source": [
    "print(y * t)"
   ]
  },
  {
   "cell_type": "markdown",
   "metadata": {
    "collapsed": true,
    "slideshow": {
     "slide_type": "subslide"
    }
   },
   "source": [
    "* Extremely readable.\n",
    "* Can wrap other languages, and has a module to generate compiled code."
   ]
  },
  {
   "cell_type": "code",
   "execution_count": null,
   "metadata": {
    "collapsed": false
   },
   "outputs": [],
   "source": [
    "%%cython\n",
    "def intsum(values):\n",
    "    cdef int value, sum=0\n",
    "    for value in values:\n",
    "        sum+= value\n",
    "    return sum\n",
    "    "
   ]
  },
  {
   "cell_type": "code",
   "execution_count": null,
   "metadata": {
    "collapsed": true,
    "slideshow": {
     "slide_type": "subslide"
    }
   },
   "outputs": [],
   "source": [
    "def slowsum(values):\n",
    "    sum=0\n",
    "    for value in values:\n",
    "        sum+= value\n",
    "    return sum"
   ]
  },
  {
   "cell_type": "code",
   "execution_count": null,
   "metadata": {
    "collapsed": false,
    "slideshow": {
     "slide_type": "subslide"
    }
   },
   "outputs": [],
   "source": [
    "%timeit intsum(range(100000))"
   ]
  },
  {
   "cell_type": "code",
   "execution_count": null,
   "metadata": {
    "collapsed": false,
    "slideshow": {
     "slide_type": "fragment"
    }
   },
   "outputs": [],
   "source": [
    "%timeit slowsum(range(100000))"
   ]
  },
  {
   "cell_type": "code",
   "execution_count": null,
   "metadata": {
    "collapsed": true,
    "slideshow": {
     "slide_type": "subslide"
    }
   },
   "outputs": [],
   "source": [
    "from math import sin\n",
    "def f(x):\n",
    "    return sin(x**2)\n",
    "\n",
    "\n",
    "def slow_integrate_f(a, b, N):\n",
    "    \n",
    "    dx = (b - a)/N\n",
    "    s = 0\n",
    "    for i in range(N):\n",
    "        s += f(a+i*dx)\n",
    "    return s*dx"
   ]
  },
  {
   "cell_type": "code",
   "execution_count": null,
   "metadata": {
    "collapsed": false,
    "slideshow": {
     "slide_type": "subslide"
    }
   },
   "outputs": [],
   "source": [
    "%%cython\n",
    "cdef extern from \"math.h\":\n",
    "    double sin(double x)\n",
    "    \n",
    "cdef double f(double x):\n",
    "    return sin(x**2)\n",
    "\n",
    "cpdef double integrate_f(double a, double b, int N):\n",
    "    cdef double dx, s\n",
    "    cdef int i\n",
    "    \n",
    "    dx = (b - a)/N\n",
    "    s = 0\n",
    "    for i in range(N):\n",
    "        s += f(a+i*dx)\n",
    "    return s*dx\n"
   ]
  },
  {
   "cell_type": "code",
   "execution_count": 91,
   "metadata": {
    "collapsed": false,
    "slideshow": {
     "slide_type": "subslide"
    }
   },
   "outputs": [
    {
     "name": "stdout",
     "output_type": "stream",
     "text": [
      "100 loops, best of 3: 2.41 ms per loop\n",
      "10 loops, best of 3: 61.8 ms per loop\n"
     ]
    }
   ],
   "source": [
    "%timeit integrate_f(1, 20, 200000)\n",
    "%timeit slow_integrate_f(1, 20, 200000)"
   ]
  },
  {
   "cell_type": "code",
   "execution_count": null,
   "metadata": {
    "collapsed": true
   },
   "outputs": [],
   "source": []
  },
  {
   "cell_type": "code",
   "execution_count": null,
   "metadata": {
    "collapsed": true
   },
   "outputs": [],
   "source": []
  },
  {
   "cell_type": "code",
   "execution_count": null,
   "metadata": {
    "collapsed": true
   },
   "outputs": [],
   "source": []
  },
  {
   "cell_type": "markdown",
   "metadata": {
    "slideshow": {
     "slide_type": "slide"
    }
   },
   "source": [
    "# Python Ecosystem\n",
    "The primary strength of Python is the ecosystem that surrounds it. This includes\n",
    "* Rich Library Support\n",
    "* More scientific tools than you can shake a stick at. \n",
    "* Capable Editors\n",
    "* Top Notch online communities\n",
    "\n",
    "I'll cover a few of these here, focusing primarily on the tools and community efforts."
   ]
  },
  {
   "cell_type": "markdown",
   "metadata": {
    "collapsed": true,
    "slideshow": {
     "slide_type": "subslide"
    }
   },
   "source": [
    "# Distributions\n",
    "Anaconda and Conda"
   ]
  },
  {
   "cell_type": "markdown",
   "metadata": {
    "slideshow": {
     "slide_type": "subslide"
    }
   },
   "source": [
    "# Jupyter and Ipython"
   ]
  },
  {
   "cell_type": "markdown",
   "metadata": {
    "slideshow": {
     "slide_type": "subslide"
    }
   },
   "source": [
    "# Spyder, Canopy, PyCharm"
   ]
  },
  {
   "cell_type": "markdown",
   "metadata": {
    "slideshow": {
     "slide_type": "subslide"
    }
   },
   "source": [
    "# Numpy\n",
    "* Numerics and arrays for Python."
   ]
  },
  {
   "cell_type": "markdown",
   "metadata": {
    "slideshow": {
     "slide_type": "subslide"
    }
   },
   "source": [
    "# Scipy\n",
    "* Umbrella library for a large number of tools of scientific use."
   ]
  },
  {
   "cell_type": "markdown",
   "metadata": {
    "slideshow": {
     "slide_type": "subslide"
    }
   },
   "source": [
    "# Matplotlib\n",
    "* Primary Plotting library for Python"
   ]
  },
  {
   "cell_type": "markdown",
   "metadata": {
    "slideshow": {
     "slide_type": "subslide"
    }
   },
   "source": [
    "# Pandas and Seaborn\n",
    "Pandas is Python's answer to the R programming language. It is a statistics library for data processing based around the concept of Time Series, and Data Frames\n"
   ]
  },
  {
   "cell_type": "code",
   "execution_count": 99,
   "metadata": {
    "collapsed": false,
    "slideshow": {
     "slide_type": "subslide"
    }
   },
   "outputs": [
    {
     "data": {
      "image/png": "[encoded data removed]",
      "text/plain": [
       "<matplotlib.figure.Figure at 0x11050f490>"
      ]
     },
     "metadata": {},
     "output_type": "display_data"
    }
   ],
   "source": [
    "# %load examples/seaborn_example.py\n",
    "import seaborn as sns\n",
    "import matplotlib.pyplot as plt\n",
    "sns.set(style=\"whitegrid\")\n",
    "\n",
    "# Load the example dataset of brain network correlations\n",
    "df = sns.load_dataset(\"brain_networks\", header=[0, 1, 2], index_col=0)\n",
    "\n",
    "# Pull out a specific subset of networks\n",
    "used_networks = [1, 3, 4, 5, 6, 7, 8, 11, 12, 13, 16, 17]\n",
    "used_columns = (df.columns.get_level_values(\"network\")\n",
    "                                  .astype(int)\n",
    "                                                            .isin(used_networks))\n",
    "df = df.loc[:, used_columns]\n",
    "\n",
    "# Compute the correlation matrix and average over networks\n",
    "corr_df = df.corr().groupby(level=\"network\").mean()\n",
    "corr_df.index = corr_df.index.astype(int)\n",
    "corr_df = corr_df.sort_index().T\n",
    "\n",
    "# Set up the matplotlib figure\n",
    "f, ax = plt.subplots(figsize=(11, 6))\n",
    "\n",
    "# Draw a violinplot with a narrower bandwidth than the default\n",
    "sns.violinplot(data=corr_df, palette=\"Set3\", bw=.2, cut=1, linewidth=1)\n",
    "\n",
    "# Finalize the figure\n",
    "ax.set(ylim=(-.7, 1.05))\n",
    "sns.despine(left=True, bottom=True)\n",
    "plt.savefig('img/seaborn_example.png')\n"
   ]
  },
  {
   "cell_type": "markdown",
   "metadata": {
    "slideshow": {
     "slide_type": "subslide"
    }
   },
   "source": [
    "# A little easier to see\n",
    "![seaborn example](img/seaborn_example.png)"
   ]
  },
  {
   "cell_type": "markdown",
   "metadata": {
    "slideshow": {
     "slide_type": "subslide"
    }
   },
   "source": [
    "# Basemap"
   ]
  },
  {
   "cell_type": "markdown",
   "metadata": {
    "slideshow": {
     "slide_type": "subslide"
    }
   },
   "source": [
    "# Scipy(The conference), PyData, Women who code. "
   ]
  },
  {
   "cell_type": "markdown",
   "metadata": {
    "slideshow": {
     "slide_type": "subslide"
    }
   },
   "source": [
    "# PyAOS"
   ]
  },
  {
   "cell_type": "markdown",
   "metadata": {
    "slideshow": {
     "slide_type": "subslide"
    }
   },
   "source": [
    "# pep8"
   ]
  },
  {
   "cell_type": "markdown",
   "metadata": {
    "slideshow": {
     "slide_type": "slide"
    }
   },
   "source": [
    "# Examples"
   ]
  },
  {
   "cell_type": "markdown",
   "metadata": {
    "slideshow": {
     "slide_type": "subslide"
    }
   },
   "source": [
    "# Example 1: Density Plots (And a big pet peeve)\n",
    "* In most cases scatter plots are the incorrect choice of plot. They can be misleading. Very misleading. \n",
    "* When a large number of points, use density plots. \n",
    "* Should you be presenting a linear number of points, of logarithmic density? \n",
    "* Let's do this in python very easily. "
   ]
  },
  {
   "cell_type": "code",
   "execution_count": null,
   "metadata": {
    "collapsed": false,
    "slideshow": {
     "slide_type": "subslide"
    }
   },
   "outputs": [],
   "source": [
    "import numpy as np\n",
    "import matplotlib.pyplot as plt\n",
    "from matplotlib.colors import LogNorm\n",
    "x1 = np.random.randn(10000); y1 = np.random.randn(10000)\n",
    "x2 = np.random.randn(10000)/2.0; y2 = -1*x2\n",
    "x = np.hstack((x2, x1)); y = np.hstack((y2,y1))\n",
    "plt.figure(figsize=(6,6)); plt.subplot(3,1,1); plt.scatter(x, y);\n",
    "plt.subplot(3,1,2); plt.hist2d(x,y, bins=100);plt.colorbar(); plt.subplot(3,1,3)\n",
    "plt.hist2d(x,y,bins=100, norm=LogNorm()); plt.colorbar()"
   ]
  },
  {
   "cell_type": "markdown",
   "metadata": {},
   "source": [
    "# Example 2: Radar Data"
   ]
  },
  {
   "cell_type": "markdown",
   "metadata": {},
   "source": [
    "# Example 3: Model Data on a Map"
   ]
  },
  {
   "cell_type": "markdown",
   "metadata": {
    "slideshow": {
     "slide_type": "subslide"
    }
   },
   "source": [
    "# Example 4: Bokeh\n",
    "Bokeh is a plotting library that utilizes the browser. This makes it perfect for sharing results with a wider audience. \n",
    "\n",
    "* Bokeh Example"
   ]
  },
  {
   "cell_type": "markdown",
   "metadata": {},
   "source": [
    "# Example 5: Warno\n",
    "Closer to home, WARNO is a monitoring and analytics application developed by the radar team to monitor 33 radars around the world. \n",
    "\n",
    "https://dellingr.pnl.gov:8443"
   ]
  },
  {
   "cell_type": "markdown",
   "metadata": {},
   "source": [
    "# Example 6: IPCluster"
   ]
  },
  {
   "cell_type": "markdown",
   "metadata": {},
   "source": [
    "# Example 7: Mayavi\n",
    "* Canyon\n",
    "* Julia\n",
    "* Lorenz"
   ]
  },
  {
   "cell_type": "markdown",
   "metadata": {
    "slideshow": {
     "slide_type": "slide"
    }
   },
   "source": [
    "# Further Resources"
   ]
  },
  {
   "cell_type": "markdown",
   "metadata": {
    "collapsed": true,
    "slideshow": {
     "slide_type": "subslide"
    }
   },
   "source": [
    "# Books\n",
    "\n",
    "1. Effective Computation in the Physical Sciences\n",
    "2. Python for Data Processing\n",
    "3. Python\n",
    "\n"
   ]
  },
  {
   "cell_type": "markdown",
   "metadata": {
    "slideshow": {
     "slide_type": "subslide"
    }
   },
   "source": [
    "# Websites\n",
    "1. PyAOS\n",
    "2. StackOverflow\n",
    "3. Continuum Analytics\n",
    "4. Enthought.\n",
    "5. Code likea Pythonista(Common Python Idioms): http://python.net/~goodger/projects/pycon/2007/idiomatic/handout.html"
   ]
  },
  {
   "cell_type": "markdown",
   "metadata": {
    "slideshow": {
     "slide_type": "subslide"
    }
   },
   "source": [
    "# CoWorkers\n",
    "A lot of people around PNNL use Python.\n",
    "1. From the radar group there is Alyssa Matthews, Eddie Schumann, and myself.\n",
    "2. Susannah Burrows, Phil Rausch"
   ]
  },
  {
   "cell_type": "markdown",
   "metadata": {
    "slideshow": {
     "slide_type": "subslide"
    }
   },
   "source": [
    "\n",
    "\n",
    "    Debugging is twice as hard as writing the code in the first place. Therefore, if you write the code as cleverly as possible, you are, by definition, not smart enough to debug it.\n",
    "\n",
    "    —Brian W. Kernighan, co-author of The C Programming Language and the \"K\" in \"AWK\"\n"
   ]
  },
  {
   "cell_type": "code",
   "execution_count": null,
   "metadata": {
    "collapsed": true
   },
   "outputs": [],
   "source": []
  }
 ],
 "metadata": {
  "celltoolbar": "Slideshow",
  "kernelspec": {
   "display_name": "Python 2",
   "language": "python",
   "name": "python2"
  },
  "language_info": {
   "codemirror_mode": {
    "name": "ipython",
    "version": 2
   },
   "file_extension": ".py",
   "mimetype": "text/x-python",
   "name": "python",
   "nbconvert_exporter": "python",
   "pygments_lexer": "ipython2",
   "version": "2.7.10"
  }
 },
 "nbformat": 4,
 "nbformat_minor": 0
}
